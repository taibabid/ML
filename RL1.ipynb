{
  "nbformat": 4,
  "nbformat_minor": 0,
  "metadata": {
    "colab": {
      "provenance": [],
      "authorship_tag": "ABX9TyOfY/yxVLujYKIYRhtIzH3t"
    },
    "kernelspec": {
      "name": "python3",
      "display_name": "Python 3"
    },
    "language_info": {
      "name": "python"
    }
  },
  "cells": [
    {
      "cell_type": "markdown",
      "source": [
        "# Importer les packages Numpy et Matplotlib.pyplot"
      ],
      "metadata": {
        "id": "x4KoHVGueXV-"
      }
    },
    {
      "cell_type": "code",
      "execution_count": 1,
      "metadata": {
        "id": "xICPJEa1eT_f"
      },
      "outputs": [],
      "source": [
        "import numpy as np\n",
        "import matplotlib.pyplot as plt"
      ]
    },
    {
      "cell_type": "markdown",
      "source": [
        "# Génération d’un dataset (x, y) linéaire"
      ],
      "metadata": {
        "id": "oIMPQZWFemXN"
      }
    },
    {
      "cell_type": "code",
      "source": [
        "np.random.seed(0) # pour toujours reproduire le meme dataset\n",
        " \n",
        "n_samples = 100 # nombre d'echantillons a générer\n",
        "x = np.linspace(0, 10, n_samples).reshape((n_samples, 1))\n",
        "y = x + np.random.randn(n_samples, 1)\n",
        " \n",
        " \n",
        "plt.scatter(x, y) # afficher les résultats. X en abscisse et y en ordonnée\n",
        "plt.show()"
      ],
      "metadata": {
        "colab": {
          "base_uri": "https://localhost:8080/",
          "height": 266
        },
        "id": "bYup4mEweqD2",
        "outputId": "0940fd02-72cc-4756-c169-101ad4f9bf3b"
      },
      "execution_count": 2,
      "outputs": [
        {
          "output_type": "display_data",
          "data": {
            "text/plain": [
              "<Figure size 432x288 with 1 Axes>"
            ],
            "image/png": "[encoded data removed]"
          },
          "metadata": {
            "needs_background": "light"
          }
        }
      ]
    },
    {
      "cell_type": "code",
      "source": [
        "# ajout de la colonne de biais a X\n",
        "X = np.hstack((x, np.ones(x.shape)))\n",
        "print(X.shape)\n",
        " \n",
        "# création d'un vecteur parametre theta\n",
        "theta = np.random.randn(2, 1)\n",
        "print(theta)"
      ],
      "metadata": {
        "colab": {
          "base_uri": "https://localhost:8080/"
        },
        "id": "s27mLshSfER5",
        "outputId": "7e13f411-655d-4a1a-fa0e-3842aaf2bccc"
      },
      "execution_count": 3,
      "outputs": [
        {
          "output_type": "stream",
          "name": "stdout",
          "text": [
            "(100, 2)\n",
            "[[ 1.8831507 ]\n",
            " [-1.34775906]]\n"
          ]
        }
      ]
    },
    {
      "cell_type": "markdown",
      "source": [
        "# Développement des fonctions de Descente de gradient:"
      ],
      "metadata": {
        "id": "cjUmgRGcfn2g"
      }
    },
    {
      "cell_type": "code",
      "source": [
        "def model(X, theta):\n",
        "    return X.dot(theta)\n",
        " \n",
        "def cost_function(X, y, theta):\n",
        "    m = len(y)\n",
        "    return 1/(2*m) * np.sum((model(X, theta) - y)**2)\n",
        " \n",
        "def grad(X, y, theta):\n",
        "    m = len(y)\n",
        "    return 1/m * X.T.dot(model(X, theta) - y)\n",
        " \n",
        "def gradient_descent(X, y, theta, learning_rate, n_iterations):\n",
        "    # création d'un tableau de stockage pour enregistrer l'évolution du Cout du modele\n",
        "    cost_history = np.zeros(n_iterations) \n",
        "     \n",
        "    for i in range(0, n_iterations):\n",
        "        theta = theta - learning_rate * grad(X, y, theta) # mise a jour du parametre theta (formule du gradient descent)\n",
        "        cost_history[i] = cost_function(X, y, theta) # on enregistre la valeur du Cout au tour i dans cost_history[i]\n",
        "         \n",
        "    return theta, cost_history"
      ],
      "metadata": {
        "id": "3pVLiK-qfj74"
      },
      "execution_count": 4,
      "outputs": []
    },
    {
      "cell_type": "markdown",
      "source": [
        "# Example de test"
      ],
      "metadata": {
        "id": "E12NCFCgf3ml"
      }
    },
    {
      "cell_type": "code",
      "source": [
        "print(cost_function(X, y, theta))"
      ],
      "metadata": {
        "colab": {
          "base_uri": "https://localhost:8080/"
        },
        "id": "9zkSBDDMfxh6",
        "outputId": "bf5aa0a6-818d-45f9-b093-d7de1a91aa76"
      },
      "execution_count": 5,
      "outputs": [
        {
          "output_type": "stream",
          "name": "stdout",
          "text": [
            "8.571212944952592\n"
          ]
        }
      ]
    },
    {
      "cell_type": "markdown",
      "source": [
        "# Entrainement du modèle"
      ],
      "metadata": {
        "id": "1xGABS8TgE-P"
      }
    },
    {
      "cell_type": "code",
      "source": [
        "n_iterations = 1000\n",
        "learning_rate = 0.001\n",
        " \n",
        "theta_final, cost_history = gradient_descent(X, y, theta, learning_rate, n_iterations)\n",
        " \n",
        "print(theta_final) # voici les parametres du modele une fois que la machine a été entrainée\n",
        " \n",
        "# création d'un vecteur prédictions qui contient les prédictions de notre modele final\n",
        "predictions = model(X, theta_final)\n",
        " \n",
        "# Affiche les résultats de prédictions (en rouge) par rapport a notre Dataset (en bleu)\n",
        "plt.scatter(x, y)\n",
        "plt.plot(x, predictions, c='r')\n",
        "plt.show()"
      ],
      "metadata": {
        "colab": {
          "base_uri": "https://localhost:8080/",
          "height": 301
        },
        "id": "lrn4CM5AgPiI",
        "outputId": "bca3195b-c2e1-4c17-cfc7-6ce8b7a099e0"
      },
      "execution_count": 7,
      "outputs": [
        {
          "output_type": "stream",
          "name": "stdout",
          "text": [
            "[[ 1.16453556]\n",
            " [-1.08354775]]\n"
          ]
        },
        {
          "output_type": "display_data",
          "data": {
            "text/plain": [
              "<Figure size 432x288 with 1 Axes>"
            ],
            "image/png": "[encoded data removed]"
          },
          "metadata": {
            "needs_background": "light"
          }
        }
      ]
    },
    {
      "cell_type": "markdown",
      "source": [
        "# Les courbes d’apprentissage"
      ],
      "metadata": {
        "id": "2aGMD8GhgaPu"
      }
    },
    {
      "cell_type": "code",
      "source": [
        "plt.plot(range(n_iterations), cost_history)\n",
        "plt.show()"
      ],
      "metadata": {
        "colab": {
          "base_uri": "https://localhost:8080/",
          "height": 265
        },
        "id": "WsDQw6MTggvJ",
        "outputId": "5cd8f14d-571c-453c-c477-987a43a32486"
      },
      "execution_count": 8,
      "outputs": [
        {
          "output_type": "display_data",
          "data": {
            "text/plain": [
              "<Figure size 432x288 with 1 Axes>"
            ],
            "image/png": "[encoded data removed]"
          },
          "metadata": {
            "needs_background": "light"
          }
        }
      ]
    },
    {
      "cell_type": "markdown",
      "source": [
        "courbe d’apprentissage (Learning curves) les courbes qui montrent l’évolution de la Fonction Coût au fil des itérations de Gradient Descent. Si votre modèle apprend, alors sa Fonction Coût doit diminuer avec le temps"
      ],
      "metadata": {
        "id": "lbidOvW6g0mR"
      }
    }
  ]
}