{
  "nbformat": 4,
  "nbformat_minor": 0,
  "metadata": {
    "colab": {
      "provenance": [],
      "authorship_tag": "ABX9TyO0eFoSb7gEb5blJtUcBuEr",
      "include_colab_link": true
    },
    "kernelspec": {
      "name": "python3",
      "display_name": "Python 3"
    },
    "language_info": {
      "name": "python"
    }
  },
  "cells": [
    {
      "cell_type": "markdown",
      "metadata": {
        "id": "view-in-github",
        "colab_type": "text"
      },
      "source": [
        "<a href=\"https://colab.research.google.com/github/taibabid/ML/blob/main/RN_IE_Iris.ipynb\" target=\"_parent\"><img src=\"https://colab.research.google.com/assets/colab-badge.svg\" alt=\"Open In Colab\"/></a>"
      ]
    },
    {
      "cell_type": "markdown",
      "source": [
        "# Importer les packages"
      ],
      "metadata": {
        "id": "Iw7WKYYEfkJB"
      }
    },
    {
      "cell_type": "code",
      "source": [
        "import numpy as np \n",
        "import matplotlib.pyplot as plt \n",
        "from sklearn.datasets import load_iris \n",
        "from sklearn.neural_network import MLPClassifier"
      ],
      "metadata": {
        "id": "L2c-w9wfgJqo"
      },
      "execution_count": 1,
      "outputs": []
    },
    {
      "cell_type": "markdown",
      "source": [
        "# Charger notre data"
      ],
      "metadata": {
        "id": "cnPtVRY2gRmn"
      }
    },
    {
      "cell_type": "code",
      "source": [
        "iris = load_iris() \n",
        " \n",
        "X = iris.data \n",
        "y = iris.target \n",
        "X.shape "
      ],
      "metadata": {
        "colab": {
          "base_uri": "https://localhost:8080/"
        },
        "id": "0ZH45ecMgaNU",
        "outputId": "6b32236d-7e3d-4b7f-f97a-b6f34e9483e1"
      },
      "execution_count": 3,
      "outputs": [
        {
          "output_type": "execute_result",
          "data": {
            "text/plain": [
              "(150, 4)"
            ]
          },
          "metadata": {},
          "execution_count": 3
        }
      ]
    },
    {
      "cell_type": "markdown",
      "source": [
        "notre Dataset comprend 150 exemples et 4 variables"
      ],
      "metadata": {
        "id": "aZbro5MKg21n"
      }
    },
    {
      "cell_type": "markdown",
      "source": [
        "# Visualisation des donées "
      ],
      "metadata": {
        "id": "PpiYky-0hHqp"
      }
    },
    {
      "cell_type": "code",
      "source": [
        "colormap=np.array(['Red','green','blue']) \n",
        "plt.scatter(X[:,3], X[:,1], c = colormap[y]) "
      ],
      "metadata": {
        "colab": {
          "base_uri": "https://localhost:8080/",
          "height": 285
        },
        "id": "V_rsN8Bdg6-T",
        "outputId": "87f66050-d4a8-45b9-bf62-0d5b046cf782"
      },
      "execution_count": 4,
      "outputs": [
        {
          "output_type": "execute_result",
          "data": {
            "text/plain": [
              "<matplotlib.collections.PathCollection at 0x7f6bd2df8210>"
            ]
          },
          "metadata": {},
          "execution_count": 4
        },
        {
          "output_type": "display_data",
          "data": {
            "text/plain": [
              "<Figure size 432x288 with 1 Axes>"
            ],
            "image/png": "[encoded data removed]"
          },
          "metadata": {
            "needs_background": "light"
          }
        }
      ]
    },
    {
      "cell_type": "markdown",
      "source": [
        "# Création et l'entrainement d'un modele"
      ],
      "metadata": {
        "id": "gKqFFf7hhyCn"
      }
    },
    {
      "cell_type": "code",
      "source": [
        "model = MLPClassifier(hidden_layer_sizes=(10, 10, 10), max_iter=1000) \n",
        "model.fit(X, y) \n",
        "model.score(X, y)"
      ],
      "metadata": {
        "colab": {
          "base_uri": "https://localhost:8080/"
        },
        "id": "WxO5LR5AiErC",
        "outputId": "8d6665a1-19e9-4949-c58f-541a22f61a4f"
      },
      "execution_count": 5,
      "outputs": [
        {
          "output_type": "execute_result",
          "data": {
            "text/plain": [
              "0.98"
            ]
          },
          "metadata": {},
          "execution_count": 5
        }
      ]
    },
    {
      "cell_type": "markdown",
      "source": [
        "On obtenir un score de 98% c-a-d la machine arrive à prédire la bonne espèce de \n",
        "fleur 98% du temps"
      ],
      "metadata": {
        "id": "qpXwt9cyiWVy"
      }
    }
  ]
}