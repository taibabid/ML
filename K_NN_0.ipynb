{
  "nbformat": 4,
  "nbformat_minor": 0,
  "metadata": {
    "colab": {
      "provenance": [],
      "authorship_tag": "ABX9TyOxAwpiaQauW1xrCasqKvs6"
    },
    "kernelspec": {
      "name": "python3",
      "display_name": "Python 3"
    },
    "language_info": {
      "name": "python"
    }
  },
  "cells": [
    {
      "cell_type": "markdown",
      "source": [
        "Importer les libraires"
      ],
      "metadata": {
        "id": "RoS0A1v3Ok0m"
      }
    },
    {
      "cell_type": "code",
      "execution_count": 2,
      "metadata": {
        "id": "-uTzIO9M8Bm7"
      },
      "outputs": [],
      "source": [
        "import numpy as np \n",
        "import matplotlib.pyplot as plt \n",
        "from sklearn.datasets import load_digits \n",
        "from sklearn.neighbors import KNeighborsClassifier "
      ]
    },
    {
      "cell_type": "markdown",
      "source": [
        "Importons une base de données de chiffre"
      ],
      "metadata": {
        "id": "NmbSmmTePBou"
      }
    },
    {
      "cell_type": "code",
      "source": [
        "digits = load_digits() \n",
        " \n",
        "X = digits.data \n",
        "y = digits.target \n",
        " \n",
        "print('dimension de X:', X.shape)"
      ],
      "metadata": {
        "colab": {
          "base_uri": "https://localhost:8080/"
        },
        "id": "fW6gwvWAOohM",
        "outputId": "2a1b0baa-3e28-478c-b5d9-3bf3cb7c61d4"
      },
      "execution_count": 3,
      "outputs": [
        {
          "output_type": "stream",
          "name": "stdout",
          "text": [
            "dimension de X: (1797, 64)\n"
          ]
        }
      ]
    },
    {
      "cell_type": "markdown",
      "source": [
        "Visualisation"
      ],
      "metadata": {
        "id": "6nLgnXbpPjpS"
      }
    },
    {
      "cell_type": "code",
      "source": [
        "plt.imshow(digits['images'][0], cmap = 'Greys_r')"
      ],
      "metadata": {
        "colab": {
          "base_uri": "https://localhost:8080/",
          "height": 282
        },
        "id": "JDiK3vB3PKFq",
        "outputId": "298a300b-a158-469f-a3c2-20ad1d9a01b3"
      },
      "execution_count": 4,
      "outputs": [
        {
          "output_type": "execute_result",
          "data": {
            "text/plain": [
              "<matplotlib.image.AxesImage at 0x7f0348427c90>"
            ]
          },
          "metadata": {},
          "execution_count": 4
        },
        {
          "output_type": "display_data",
          "data": {
            "text/plain": [
              "<Figure size 432x288 with 1 Axes>"
            ],
            "image/png": "[encoded data removed]"
          },
          "metadata": {
            "needs_background": "light"
          }
        }
      ]
    },
    {
      "cell_type": "markdown",
      "source": [
        "Entraînement du modele"
      ],
      "metadata": {
        "id": "TYICJTagPuxX"
      }
    },
    {
      "cell_type": "code",
      "source": [
        "model = KNeighborsClassifier() \n",
        "model.fit(X, y) \n",
        "model.score(X, y) "
      ],
      "metadata": {
        "colab": {
          "base_uri": "https://localhost:8080/"
        },
        "id": "Vnwro8aGPyIX",
        "outputId": "cf86bb9d-9dcc-4226-abb8-59103193b2e8"
      },
      "execution_count": 5,
      "outputs": [
        {
          "output_type": "execute_result",
          "data": {
            "text/plain": [
              "0.9905397885364496"
            ]
          },
          "metadata": {},
          "execution_count": 5
        }
      ]
    },
    {
      "cell_type": "markdown",
      "source": [
        "Test du modele"
      ],
      "metadata": {
        "id": "akzu8oblP2tG"
      }
    },
    {
      "cell_type": "code",
      "source": [
        "test = digits['images'][100].reshape(1, -1) \n",
        "plt.imshow(digits['images'][100], cmap = 'Greys_r') \n",
        "model.predict(test) "
      ],
      "metadata": {
        "colab": {
          "base_uri": "https://localhost:8080/",
          "height": 282
        },
        "id": "AkoU7DAVQOKz",
        "outputId": "efc7d1fd-bf5c-4729-f490-deae3f15e630"
      },
      "execution_count": 6,
      "outputs": [
        {
          "output_type": "execute_result",
          "data": {
            "text/plain": [
              "array([4])"
            ]
          },
          "metadata": {},
          "execution_count": 6
        },
        {
          "output_type": "display_data",
          "data": {
            "text/plain": [
              "<Figure size 432x288 with 1 Axes>"
            ],
            "image/png": "[encoded data removed]"
          },
          "metadata": {
            "needs_background": "light"
          }
        }
      ]
    }
  ]
}