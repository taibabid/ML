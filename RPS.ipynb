{
  "nbformat": 4,
  "nbformat_minor": 0,
  "metadata": {
    "colab": {
      "provenance": [],
      "authorship_tag": "ABX9TyNmKyBINVeQF3g3WkBiYSug"
    },
    "kernelspec": {
      "name": "python3",
      "display_name": "Python 3"
    },
    "language_info": {
      "name": "python"
    }
  },
  "cells": [
    {
      "cell_type": "code",
      "execution_count": 2,
      "metadata": {
        "id": "I4ivWFOEhUk-"
      },
      "outputs": [],
      "source": [
        "import numpy as np \n",
        "import matplotlib.pyplot as plt \n",
        "from sklearn.datasets import make_regression \n",
        "from sklearn.linear_model import SGDRegressor\n",
        "from sklearn.preprocessing import PolynomialFeatures"
      ]
    },
    {
      "cell_type": "code",
      "source": [
        "np.random.seed(0) \n",
        " \n",
        "# création du Dataset \n",
        "x, y = make_regression(n_samples=100, n_features=1, noise=10) \n",
        "y = y**2 # y ne varie plus linéairement selon x ! \n",
        " \n",
        " \n",
        "# On ajoute des variables polynômiales dans notre dataset \n",
        "poly_features = PolynomialFeatures(degree=2, include_bias=False) \n",
        "x = poly_features.fit_transform(x) \n",
        " \n",
        " \n",
        "plt.scatter(x[:,0], y) \n",
        "x.shape # la dimension de x: 100 lignes et 2 colonnes "
      ],
      "metadata": {
        "colab": {
          "base_uri": "https://localhost:8080/",
          "height": 282
        },
        "id": "Dj2TJSiYINYe",
        "outputId": "1cd8fb15-8c44-4178-aa85-80dcddbb8b5e"
      },
      "execution_count": 3,
      "outputs": [
        {
          "output_type": "execute_result",
          "data": {
            "text/plain": [
              "(100, 2)"
            ]
          },
          "metadata": {},
          "execution_count": 3
        },
        {
          "output_type": "display_data",
          "data": {
            "text/plain": [
              "<Figure size 432x288 with 1 Axes>"
            ],
            "image/png": "[encoded data removed]"
          },
          "metadata": {
            "needs_background": "light"
          }
        }
      ]
    },
    {
      "cell_type": "code",
      "source": [
        "model = SGDRegressor(max_iter=1000, eta0=0.001) \n",
        "model.fit(x,y) \n",
        "print('Coeff R2 =', model.score(x, y)) \n",
        " \n",
        "plt.scatter(x[:,0], y, marker='o') \n",
        "plt.scatter(x[:,0], model.predict(x), c='red', marker='+')"
      ],
      "metadata": {
        "colab": {
          "base_uri": "https://localhost:8080/",
          "height": 354
        },
        "id": "3V1R98QUIQwS",
        "outputId": "cf70075d-39a6-4530-d704-53df61be3d39"
      },
      "execution_count": 4,
      "outputs": [
        {
          "output_type": "stream",
          "name": "stdout",
          "text": [
            "Coeff R2 = 0.8940616961411476\n"
          ]
        },
        {
          "output_type": "stream",
          "name": "stderr",
          "text": [
            "/usr/local/lib/python3.7/dist-packages/sklearn/linear_model/_stochastic_gradient.py:1507: ConvergenceWarning: Maximum number of iteration reached before convergence. Consider increasing max_iter to improve the fit.\n",
            "  ConvergenceWarning,\n"
          ]
        },
        {
          "output_type": "execute_result",
          "data": {
            "text/plain": [
              "<matplotlib.collections.PathCollection at 0x7f54b5e089d0>"
            ]
          },
          "metadata": {},
          "execution_count": 4
        },
        {
          "output_type": "display_data",
          "data": {
            "text/plain": [
              "<Figure size 432x288 with 1 Axes>"
            ],
            "image/png": "[encoded data removed]"
          },
          "metadata": {
            "needs_background": "light"
          }
        }
      ]
    }
  ]
}