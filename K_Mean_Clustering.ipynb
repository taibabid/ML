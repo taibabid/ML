{
  "nbformat": 4,
  "nbformat_minor": 0,
  "metadata": {
    "colab": {
      "provenance": [],
      "authorship_tag": "ABX9TyO0nqbLGWeY4GkZQMB5LFrB",
      "include_colab_link": true
    },
    "kernelspec": {
      "name": "python3",
      "display_name": "Python 3"
    },
    "language_info": {
      "name": "python"
    }
  },
  "cells": [
    {
      "cell_type": "markdown",
      "metadata": {
        "id": "view-in-github",
        "colab_type": "text"
      },
      "source": [
        "<a href=\"https://colab.research.google.com/github/taibabid/ML/blob/main/K_Mean_Clustering.ipynb\" target=\"_parent\"><img src=\"https://colab.research.google.com/assets/colab-badge.svg\" alt=\"Open In Colab\"/></a>"
      ]
    },
    {
      "cell_type": "code",
      "execution_count": 6,
      "metadata": {
        "id": "P0JxvQCs_YAy"
      },
      "outputs": [],
      "source": [
        "import numpy as np\n",
        "import matplotlib.pyplot as plt \n",
        "from sklearn.datasets import make_blobs # La fonction make_blobs permet de simuler des clusters dans un Dataset.\n",
        "from sklearn.cluster import KMeans "
      ]
    },
    {
      "cell_type": "markdown",
      "source": [
        "# Générer des données:"
      ],
      "metadata": {
        "id": "HwVpPclnBi00"
      }
    },
    {
      "cell_type": "markdown",
      "source": [
        "On créer un Dataset de 100 exemples à 2 features, en simulant 3 clusters."
      ],
      "metadata": {
        "id": "a1pv3ev7Blhk"
      }
    },
    {
      "cell_type": "code",
      "source": [
        "X, y = make_blobs(n_samples=100, centers = 3, cluster_std=0.5, random_state=0) #nb_features = 2 par défaut \n",
        "plt.scatter(X[:,0], X[:, 1])"
      ],
      "metadata": {
        "colab": {
          "base_uri": "https://localhost:8080/",
          "height": 282
        },
        "id": "_4km8veE_mzJ",
        "outputId": "eb07cefa-6a5c-468f-834a-4b78530cf14d"
      },
      "execution_count": 8,
      "outputs": [
        {
          "output_type": "execute_result",
          "data": {
            "text/plain": [
              "<matplotlib.collections.PathCollection at 0x7f2a3820a610>"
            ]
          },
          "metadata": {},
          "execution_count": 8
        },
        {
          "output_type": "display_data",
          "data": {
            "text/plain": [
              "<Figure size 432x288 with 1 Axes>"
            ],
            "image/png": "[encoded data removed]"
          },
          "metadata": {
            "needs_background": "light"
          }
        }
      ]
    },
    {
      "cell_type": "markdown",
      "source": [
        "# Entrainer le modele de K-mean Clustering"
      ],
      "metadata": {
        "id": "aaeiHdM8B-pb"
      }
    },
    {
      "cell_type": "code",
      "source": [
        "model = KMeans(n_clusters=3) \n",
        "model.fit(X) "
      ],
      "metadata": {
        "colab": {
          "base_uri": "https://localhost:8080/"
        },
        "id": "KIZQk16BB7YR",
        "outputId": "008a96bb-2517-4c90-ff0c-a2c706d22c7d"
      },
      "execution_count": 9,
      "outputs": [
        {
          "output_type": "execute_result",
          "data": {
            "text/plain": [
              "KMeans(n_clusters=3)"
            ]
          },
          "metadata": {},
          "execution_count": 9
        }
      ]
    },
    {
      "cell_type": "markdown",
      "source": [
        "# Visualiser les Clusters"
      ],
      "metadata": {
        "id": "NVVea7RsCDkn"
      }
    },
    {
      "cell_type": "code",
      "source": [
        "predictions = model.predict(X) \n",
        "plt.scatter(X[:,0], X[:,1], c=predictions)"
      ],
      "metadata": {
        "colab": {
          "base_uri": "https://localhost:8080/",
          "height": 282
        },
        "id": "MLUFAD-bCKVD",
        "outputId": "a3853e0b-8ebf-4027-9b37-f53c7d2c716b"
      },
      "execution_count": 10,
      "outputs": [
        {
          "output_type": "execute_result",
          "data": {
            "text/plain": [
              "<matplotlib.collections.PathCollection at 0x7f2a3820a310>"
            ]
          },
          "metadata": {},
          "execution_count": 10
        },
        {
          "output_type": "display_data",
          "data": {
            "text/plain": [
              "<Figure size 432x288 with 1 Axes>"
            ],
            "image/png": "[encoded data removed]"
          },
          "metadata": {
            "needs_background": "light"
          }
        }
      ]
    }
  ]
}